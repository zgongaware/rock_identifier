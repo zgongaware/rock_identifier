{
 "cells": [
  {
   "cell_type": "code",
   "execution_count": 1,
   "id": "f73bd052-99f0-4ad5-8754-ad3080382ade",
   "metadata": {},
   "outputs": [],
   "source": [
    "from fastcore.all import *"
   ]
  }
 ],
 "metadata": {
  "kernelspec": {
   "display_name": "Python 3 (ipykernel)",
   "language": "python",
   "name": "python3"
  },
  "language_info": {
   "codemirror_mode": {
    "name": "ipython",
    "version": 3
   },
   "file_extension": ".py",
   "mimetype": "text/x-python",
   "name": "python",
   "nbconvert_exporter": "python",
   "pygments_lexer": "ipython3",
   "version": "3.12.1"
  }
 },
 "nbformat": 4,
 "nbformat_minor": 5
}
